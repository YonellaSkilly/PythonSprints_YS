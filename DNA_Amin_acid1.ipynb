{
 "cells": [
  {
   "cell_type": "code",
   "execution_count": null,
   "metadata": {},
   "outputs": [],
   "source": [
    "import importlib\n",
    "moduleName = input(\"dna.txt\")\n",
    "importlib.import_module(moduleName)\n",
    "\n",
    "inputfile = \"dna.txt\"\n",
    "f = open (inputfile,\"r\" )\n",
    "seq = f.read()\n",
    "\n",
    "seq = seq.replace(\"\\n\", \"\")  \n",
    "seq = seq.replace(\"\\r\", \"\")  "
   ]
  },
  {
   "cell_type": "code",
   "execution_count": 2,
   "metadata": {},
   "outputs": [
    {
     "data": {
      "text/plain": [
       "'IXI'"
      ]
     },
     "execution_count": 2,
     "metadata": {},
     "output_type": "execute_result"
    }
   ],
   "source": [
    "def translate(dna):\n",
    "    #Write a function called translate that, when given a DNA sequence of arbitrary length, \n",
    "    #identifies and returns the amino acid sequence of the DNA using the amino acid SLC code.\n",
    "    #For example: DNA Input: ATTCTCATA Output: ILI  \n",
    "    aminoacids = { \n",
    "        'ATA':'I', 'ATC':'I', 'ATT':'I', 'ATG':'M', \n",
    "        'ACA':'T' \n",
    "    } \n",
    "    aminosequence = \"\" \n",
    "    #runs through the DNA sequence taking strings of 3 in length\n",
    "    for x in range(0, len(dna), 3): \n",
    "        #finds the 3 length codon\n",
    "        codon = dna[x:x + 3] \n",
    "        #tests if the codon is in the table\n",
    "        if codon in aminoacids:\n",
    "            #adds the amino\n",
    "            aminosequence += aminoacids[codon]\n",
    "        else:\n",
    "            #adds an X because it doesn't contain an amino\n",
    "            aminosequence += \"X\"\n",
    "    return aminosequence\n",
    "translate('ATTCTCATA')"
   ]
  },
  {
   "cell_type": "code",
   "execution_count": null,
   "metadata": {},
   "outputs": [],
   "source": [
    "def mutate(inputfile):\n",
    "    with open(f,\"r\") as f:\n",
    "        seq = f.read()\n",
    "    seq = seq.replace(\"\\n\", \"\")  \n",
    "    seq = seq.replace(\"\\r\", \"\")\n",
    "    return seq\n",
    "prt = mutate(\"normalDNA.txt\") \n",
    "dna = dna(\"mutatedDNA.txt\") \n",
    "p = translate(dna[20:935]) \n",
    "p == prt        "
   ]
  },
  {
   "cell_type": "code",
   "execution_count": null,
   "metadata": {},
   "outputs": [],
   "source": [
    "def txtTranslate():\n",
    "    with open('normalDNA.txt') as inputfile:\n",
    "        normalDNA_input = inputfile.read()\n",
    "        print (normalDNA_input)\n",
    "        \n",
    "    with open('mutatedDNA.txt') as inputfile:\n",
    "            mutatedDNA_input = inputfile.read()\n",
    "            print mutatedDNA_input\n",
    "            print translate(normalDNA_input, codon_list, \"A\".lower())\n",
    "            print translate(mutatedDNA_input, codon_list,\"A\".lower())\n",
    "\n",
    "txtTranslatete()"
   ]
  },
  {
   "cell_type": "code",
   "execution_count": null,
   "metadata": {},
   "outputs": [],
   "source": []
  },
  {
   "cell_type": "code",
   "execution_count": null,
   "metadata": {},
   "outputs": [],
   "source": []
  }
 ],
 "metadata": {
  "kernelspec": {
   "display_name": "Python 3",
   "language": "python",
   "name": "python3"
  },
  "language_info": {
   "codemirror_mode": {
    "name": "ipython",
    "version": 3
   },
   "file_extension": ".py",
   "mimetype": "text/x-python",
   "name": "python",
   "nbconvert_exporter": "python",
   "pygments_lexer": "ipython3",
   "version": "3.7.3"
  }
 },
 "nbformat": 4,
 "nbformat_minor": 2
}
