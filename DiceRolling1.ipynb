{
 "cells": [
  {
   "cell_type": "code",
   "execution_count": 1,
   "metadata": {},
   "outputs": [
    {
     "name": "stdout",
     "output_type": "stream",
     "text": [
      "Welcome to our Rolling Dice Stimulator\n",
      " Lets Roll!!\n"
     ]
    }
   ],
   "source": [
    "print('Welcome to our Rolling Dice Stimulator\\n Lets Roll!!')"
   ]
  },
  {
   "cell_type": "code",
   "execution_count": 1,
   "metadata": {},
   "outputs": [
    {
     "name": "stdout",
     "output_type": "stream",
     "text": [
      "Rolling dice .... \n",
      "5\n",
      "Do you want to roll again :(yes or no) ? : no\n",
      "Have a good day.\n",
      " Would you like to restart the game:(yes or no) ?\n",
      "yes\n",
      "starting new game\n",
      "Rolling dice .... \n",
      "5\n",
      "Do you want to roll again :(yes or no) ? : no\n",
      "Have a good day.\n"
     ]
    }
   ],
   "source": [
    "#for random numbers each time rolling dice\n",
    "import random\n",
    "#to pause the game in certain places\n",
    "import time\n",
    "#import os\n",
    "#clear = lambda: os.system('cls')\n",
    "\n",
    "\n",
    "minimum = 1 #assign variable with random number\n",
    "maximum = 6 #assign variable with random number\n",
    "\n",
    "#Global variable, boolean\n",
    "roll_again = True\n",
    "def game():\n",
    "    roll_again = True\n",
    "    while roll_again:\n",
    "      print(\"Rolling dice .... \")\n",
    "#wait between 1 to 4 seconds randomly\n",
    "      time.sleep (random.randint (1,4))\n",
    "#will generate random intenger between 1&6 using Randint\n",
    "      result = random.randint(minimum, maximum)\n",
    "      print(result)  \n",
    "      roll_again = False\n",
    "    # input function is used to obtain users input \n",
    "      repeater = input(\"Do you want to roll again :(yes or no) ? : \").lower()\n",
    "        #nested loop\n",
    "      while repeater not in [\"yes\", \"no\"]:repeater = input(\"Invalid Input. Please try again : \").lower()\n",
    "      if repeater == \"yes\":\n",
    "        roll_again = True\n",
    "      elif repeater == \"no\":\n",
    "        roll_again = False\n",
    "        print(\"Have a good day.\")\n",
    "    \n",
    "game()\n",
    "#restarting the game\n",
    "restart = input(' Would you like to restart the game:(yes or no) ?\\n').lower()\n",
    "if restart == 'no':\n",
    "    print('leaving the game')\n",
    "elif  restart == 'yes':\n",
    "    print('starting new game')\n",
    "    #calling the function\n",
    "    game()"
   ]
  }
 ],
 "metadata": {
  "kernelspec": {
   "display_name": "Python 3",
   "language": "python",
   "name": "python3"
  },
  "language_info": {
   "codemirror_mode": {
    "name": "ipython",
    "version": 3
   },
   "file_extension": ".py",
   "mimetype": "text/x-python",
   "name": "python",
   "nbconvert_exporter": "python",
   "pygments_lexer": "ipython3",
   "version": "3.7.3"
  }
 },
 "nbformat": 4,
 "nbformat_minor": 2
}
