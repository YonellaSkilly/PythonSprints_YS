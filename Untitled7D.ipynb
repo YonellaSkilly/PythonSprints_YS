{
 "cells": [
  {
   "cell_type": "code",
   "execution_count": 1,
   "metadata": {},
   "outputs": [
    {
     "name": "stdout",
     "output_type": "stream",
     "text": [
      "Welcome to our Rolling Dice stimulator\n"
     ]
    }
   ],
   "source": [
    "print('Welcome to our Rolling Dice stimulator')"
   ]
  },
  {
   "cell_type": "code",
   "execution_count": null,
   "metadata": {
    "scrolled": true
   },
   "outputs": [
    {
     "name": "stdout",
     "output_type": "stream",
     "text": [
      "Rolling dice .... \n",
      "4\n",
      "Do you want to roll again :(yes or no) ? : jk\n",
      "Invalid Input. Please try again : yes\n",
      "Have a good day.\n",
      "Rolling dice .... \n",
      "6\n"
     ]
    }
   ],
   "source": [
    "#for random numbers each time rolling dice\n",
    "import random\n",
    "#to pause the game in certain places\n",
    "import time\n",
    "\n",
    "minimum = 1 \n",
    "maximum = 6\n",
    "\n",
    "#Global variables\n",
    "roll_again = True\n",
    "\n",
    "while roll_again:\n",
    "  print(\"Rolling dice .... \")\n",
    "#wait between 1 to 4 seconds randomly\n",
    "  time.sleep (random.randint (1,4))\n",
    "#will select random intenger between 1&6\n",
    "  result = random.randint(minimum, maximum)\n",
    "  print(result)\n",
    "  roll_again = False\n",
    "  repeater = input(\"Do you want to roll again :(yes or no) ? : \").lower()\n",
    "#nested loop\n",
    "  while repeater not in [\"yes\", \"no\"]:repeater = input(\"Invalid Input. Please try again : \").lower()\n",
    "  if repeater == \"yes\":\n",
    "    roll_again = True\n",
    "  elif repeater == \"no\":\n",
    "    roll_again = False\n",
    "  print(\"Have a good day.\")\n"
   ]
  },
  {
   "cell_type": "code",
   "execution_count": null,
   "metadata": {},
   "outputs": [],
   "source": []
  }
 ],
 "metadata": {
  "kernelspec": {
   "display_name": "Python 3",
   "language": "python",
   "name": "python3"
  },
  "language_info": {
   "codemirror_mode": {
    "name": "ipython",
    "version": 3
   },
   "file_extension": ".py",
   "mimetype": "text/x-python",
   "name": "python",
   "nbconvert_exporter": "python",
   "pygments_lexer": "ipython3",
   "version": "3.7.3"
  }
 },
 "nbformat": 4,
 "nbformat_minor": 2
}
