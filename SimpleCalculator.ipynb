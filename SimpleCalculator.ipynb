{
 "cells": [
  {
   "cell_type": "code",
   "execution_count": 9,
   "metadata": {},
   "outputs": [],
   "source": [
    "from tkinter import*\n",
    "\n",
    "#functions\n",
    "def assignNum(num):\n",
    "    # accessing the global operater variable\n",
    "    global operator\n",
    "     # concatenation of string\n",
    "    operator = operator + str(num)\n",
    "    userInput.set(operator)\n",
    "def clean():\n",
    "    global operator\n",
    "    operator = ''\n",
    "    userInput.set(operator)\n",
    "    \n",
    "def Equal():\n",
    "    global operator\n",
    "    numEval =str(eval(operator))\n",
    "    userInput.set(numEval)\n",
    "    operator = ''\n",
    "calc = Tk()\n",
    "calc.title('Simple Calculator')\n",
    "# operater to access all the functions\n",
    "userInput = StringVar()\n",
    "operator = ''\n",
    "\n",
    " # input field for the operater\n",
    "textInput = Entry(calc, font =('arial',20, 'bold'), textvariable = userInput, bd =30, bg = 'white', justify ='right').grid(columnspan = 4)\n",
    " \n",
    " # creating buttons and placing them at respective positions\n",
    "btnClear =Button(calc,padx =16, bd = 8,fg='black', font =('arial',20, 'bold'), bg = 'cadet blue', text='c', command = lambda:clean()).grid(row =1, column =0)\n",
    "btnPower = Button(calc,padx =16, bd = 8,fg='black', font =('arial',20, 'bold'),bg = 'cadet blue', text='^', command = lambda:assignNum('**')).grid(row =1, column =1)\n",
    "btnPerc=Button(calc,padx =16, bd = 8,fg='black', font =('arial',20, 'bold'), text='%', bg = 'cadet blue', command = lambda:assignNum('%')).grid(row =1, column =2)\n",
    "btnDiv =Button(calc,padx =16, bd = 8,fg='black', font =('arial',20, 'bold'), text='/',bg = 'cadet blue', command = lambda:assignNum('/')).grid(row =1, column =3)\n",
    "\n",
    " # I am using grid position for the arrangement of the widgets\n",
    "btnSeven =Button(calc,padx =16, bd = 8,fg='black', font =('arial',20, 'bold'), text='7',bg = 'cadet blue', command = lambda:assignNum(7)).grid(row =2, column =0)\n",
    "btnEight =Button(calc,padx =16, bd = 8,fg='black', font =('arial',20, 'bold'), text='8',bg = 'cadet blue', command = lambda:assignNum(8)).grid(row =2, column =1)\n",
    "btnNine =Button(calc,padx =16, bd = 8,fg='black', font =('arial',20, 'bold'), text='9',bg = 'cadet blue',command = lambda:assignNum(9)).grid(row =2, column =2)\n",
    "btnMult =Button(calc,padx =16, bd = 8,fg='black', font =('arial',20, 'bold',), text='*',bg = 'cadet blue', command = lambda:assignNum('*')).grid(row =2, column =3)\n",
    "\n",
    "\n",
    "btnFour =Button(calc,padx =16, bd = 8,fg='black', font =('arial',20, 'bold'), text='4',bg = 'cadet blue', command = lambda:assignNum(4)).grid(row =3, column =0)\n",
    "btnFive =Button(calc,padx =16, bd = 8,fg='black', font =('arial',20, 'bold'), text='5',bg = 'cadet blue', command = lambda:assignNum(5)).grid(row =3, column =1)\n",
    "btnSix =Button(calc,padx =16, bd = 8,fg='black', font =('arial',20, 'bold'), text='6',bg = 'cadet blue', command = lambda:assignNum(6)).grid(row =3, column =2)\n",
    "btnMinus =Button(calc,padx =16, bd = 8,fg='black', font =('arial',20, 'bold'), text='-',bg = 'cadet blue', command = lambda:assignNum('-')).grid(row =3, column =3)\n",
    "\n",
    "\n",
    "btnOne =Button(calc,padx =16, bd = 8,fg='black', font =('arial',20, 'bold'), text='1',bg = 'cadet blue', command = lambda:assignNum(1)).grid(row =4, column =0)\n",
    "btnTwo =Button(calc,padx =16, bd = 8,fg='black', font =('arial',20, 'bold'), text='2',bg = 'cadet blue', command = lambda:assignNum(2)).grid(row =4, column =1)\n",
    "btnThree =Button(calc,padx =16, bd = 8,fg='black', font =('arial',20, 'bold'), text='3',bg = 'cadet blue', command = lambda:assignNum(3)).grid(row =4, column =2)\n",
    "btnPlus =Button(calc,padx =16, bd = 8,fg='black', font =('arial',20, 'bold'), text='+',bg = 'cadet blue', command = lambda:assignNum('+')).grid(row =4, column =3)\n",
    "\n",
    "btnZero =Button(calc,padx =16, bd = 8,fg='black', font =('arial',20, 'bold'), text='0',bg = 'cadet blue', command = lambda:assignNum(0)).grid(row =5, column =0)\n",
    "btnFull =Button(calc,padx =16, bd = 8,fg='black', font =('arial',20, 'bold'), text='.',bg = 'cadet blue', command = lambda:assignNum('.')).grid(row =5, column =1)\n",
    "btnEqual =Button(calc,padx =16, bd = 8,fg='black', font =('arial',20, 'bold'), text='=',bg = 'cadet blue', command = lambda:Equal()).grid(row =5, column =2)\n",
    "\n",
    "# showing the GUI\n",
    "calc.mainloop()\n"
   ]
  },
  {
   "cell_type": "code",
   "execution_count": null,
   "metadata": {},
   "outputs": [],
   "source": []
  }
 ],
 "metadata": {
  "kernelspec": {
   "display_name": "Python 3",
   "language": "python",
   "name": "python3"
  },
  "language_info": {
   "codemirror_mode": {
    "name": "ipython",
    "version": 3
   },
   "file_extension": ".py",
   "mimetype": "text/x-python",
   "name": "python",
   "nbconvert_exporter": "python",
   "pygments_lexer": "ipython3",
   "version": "3.7.3"
  }
 },
 "nbformat": 4,
 "nbformat_minor": 2
}
