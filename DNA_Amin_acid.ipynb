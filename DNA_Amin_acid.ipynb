{
 "cells": [
  {
   "cell_type": "code",
   "execution_count": null,
   "metadata": {},
   "outputs": [],
   "source": [
    "import importlib\n",
    "moduleName = input(\"dna.txt\")\n",
    "importlib.import_module(moduleName)\n",
    "\n",
    "inputfile = \"dna.txt\"\n",
    "f = open (inputfile,\"r\" )\n",
    "seq = f.read()\n",
    "\n",
    "seq = seq.replace(\"\\n\", \"\")  \n",
    "seq = seq.replace(\"\\r\", \"\")  "
   ]
  },
  {
   "cell_type": "code",
   "execution_count": null,
   "metadata": {},
   "outputs": [],
   "source": [
    def translate(dna):
    #Write a function called translate that, when given a DNA sequence of arbitrary length, 
    #identifies and returns the amino acid sequence of the DNA using the amino acid SLC code.
    #For example: DNA Input: ATTCTCATA Output: ILI  
    aminoacids = { 
        'ATA':'I', 'ATC':'I', 'ATT':'I', 'ATG':'M', 
        'ACA':'T' 
    } 
    aminosequence = "" 
    #runs through the DNA sequence taking strings of 3 in length
    for x in range(0, len(dna), 3): 
        #finds the 3 length codon
        codon = dna[x:x + 3] 
        #tests if the codon is in the table
        if codon in aminoacids:
            #adds the amino
            aminosequence += aminoacids[codon]
        else:
            #adds an X because it doesn't contain an amino
            aminosequence += "X"
    return aminosequence
translate('ATTCTCATA')
   ]
  },
  {
   "cell_type": "code",
   "execution_count": null,
   "metadata": {},
   "outputs": [],
   "source": [
    "def mutate(inputfile):\n",
    "    with open(f,\"r\") as f:\n",
    "        seq = f.read()\n",
    "    seq = seq.replace(\"\\n\", \"\")  \n",
    "    seq = seq.replace(\"\\r\", \"\")\n",
    "    return seq\n",
    "prt = mutate(\"normalDNA.txt\") \n",
    "dna = dna(\"mutatedDNA.txt\") \n",
    "p = translate(dna[20:935]) \n",
    "p == prt        "
   ]
  },
  {
   "cell_type": "code",
   "execution_count": null,
   "metadata": {},
   "outputs": [],
   "source": [
    "def txtTranslate():\n",
    "    with open('normalDNA.txt') as inputfile:\n",
    "        normalDNA_input = inputfile.read()\n",
    "        print normalDNA_input\n",
    "        \n",
    "    with open('mutatedDNA.txt') as inputfile:\n",
    "            mutatedDNA_input = inputfile.read()\n",
    "            print mutatedDNA_input\n",
    "            \n",
    "        print translate(normalDNA_input, codon_list, \"A\".lower())\n",
    "        print translate(mutatedDNA_input, codon_list,\"A\".lower())\n",
    "\n",
    "txtTranslatete()"
   ]
  },
  {
   "cell_type": "code",
   "execution_count": null,
   "metadata": {},
   "outputs": [],
   "source": []
  }
 ],
 "metadata": {
  "kernelspec": {
   "display_name": "Python 3",
   "language": "python",
   "name": "python3"
  },
  "language_info": {
   "codemirror_mode": {
    "name": "ipython",
    "version": 3
   },
   "file_extension": ".py",
   "mimetype": "text/x-python",
   "name": "python",
   "nbconvert_exporter": "python",
   "pygments_lexer": "ipython3",
   "version": "3.7.3"
  }
 },
 "nbformat": 4,
 "nbformat_minor": 2
}
