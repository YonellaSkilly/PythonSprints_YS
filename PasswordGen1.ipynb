{
 "cells": [
  {
   "cell_type": "code",
   "execution_count": 1,
   "metadata": {},
   "outputs": [
    {
     "name": "stdout",
     "output_type": "stream",
     "text": [
      "Your new password is:\tr_%OgD!LWsVp\n"
     ]
    }
   ],
   "source": [
    "from random import * #importing everything that the random module has\n",
    "import string #built in python module\n",
    "\n",
    "def passGen():\n",
    "    characters = string.ascii_letters + string.punctuation  + string.digits #concatinating strings\n",
    "    password =  \"\".join(choice(characters) for x in range(randint(12,12))) #generating min - max length of passwors containing letters,symbols  and numbers\n",
    "    print(\"Your new password is:\\t\" + password)\n",
    "passGen()    \n"
   ]
  },
  {
   "cell_type": "code",
   "execution_count": null,
   "metadata": {},
   "outputs": [],
   "source": []
  }
 ],
 "metadata": {
  "kernelspec": {
   "display_name": "Python 3",
   "language": "python",
   "name": "python3"
  },
  "language_info": {
   "codemirror_mode": {
    "name": "ipython",
    "version": 3
   },
   "file_extension": ".py",
   "mimetype": "text/x-python",
   "name": "python",
   "nbconvert_exporter": "python",
   "pygments_lexer": "ipython3",
   "version": "3.7.3"
  }
 },
 "nbformat": 4,
 "nbformat_minor": 2
}
